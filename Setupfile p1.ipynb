{
  "nbformat": 4,
  "nbformat_minor": 0,
  "metadata": {
    "colab": {
      "provenance": []
    },
    "kernelspec": {
      "name": "python3",
      "display_name": "Python 3"
    },
    "language_info": {
      "name": "python"
    }
  },
  "cells": [
    {
      "cell_type": "code",
      "source": [
        "def package_setup():\n",
        "    return {\n",
        "        'name': 'Project1',\n",
        "        'version': '0.1',\n",
        "        'description': 'This one is my project-1',\n",
        "        'author': 'Daxit Golakiya',\n",
        "        'author_email': 'dgolakiy@mail.yu.edu',\n",
        "        'packages': find_packages(),\n",
        "        'install_requires': [\n",
        "            'pandas',\n",
        "            'numpy',\n",
        "            'matplotlib',\n",
        "            'seaborn',\n",
        "        ],\n",
        "        'entry_points': {\n",
        "            'console_scripts': [\n",
        "                'your_script_name = your_script_file_name:main',  # adjust script file name and function name\n",
        "            ],\n",
        "        }\n",
        "    }\n"
      ],
      "metadata": {
        "id": "hIpRFu0TIBzr"
      },
      "execution_count": 6,
      "outputs": []
    }
  ]
}